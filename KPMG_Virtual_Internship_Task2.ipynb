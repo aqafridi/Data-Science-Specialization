{
  "nbformat": 4,
  "nbformat_minor": 0,
  "metadata": {
    "kernelspec": {
      "display_name": "Python 3",
      "language": "python",
      "name": "python3"
    },
    "language_info": {
      "codemirror_mode": {
        "name": "ipython",
        "version": 3
      },
      "file_extension": ".py",
      "mimetype": "text/x-python",
      "name": "python",
      "nbconvert_exporter": "python",
      "pygments_lexer": "ipython3",
      "version": "3.7.2"
    },
    "colab": {
      "name": "KPMG_Virtual_Internship_Task2.ipynb",
      "provenance": [],
      "include_colab_link": true
    }
  },
  "cells": [
    {
      "cell_type": "markdown",
      "metadata": {
        "id": "view-in-github",
        "colab_type": "text"
      },
      "source": [
        "<a href=\"https://colab.research.google.com/github/aqafridi/DataScience/blob/main/KPMG_Virtual_Internship_Task2.ipynb\" target=\"_parent\"><img src=\"https://colab.research.google.com/assets/colab-badge.svg\" alt=\"Open In Colab\"/></a>"
      ]
    },
    {
      "cell_type": "markdown",
      "metadata": {
        "id": "iAtPWIrRdWZh"
      },
      "source": [
        "# KPMG Virtual Internship\n",
        "##Abdul Qadeer\n",
        "For context, Sprocket Central Pty Ltd is a long-standing KPMG client whom specialises in high-quality bikes and accessible cycling accessories to riders. Their team is looking to boost business by analysing their existing customer dataset to determine customer trends and behaviour. \n",
        "\n",
        "Using the existing 3 datasets (Customer demographic, customer address and transactions) as a labelled dataset, please recommend which of these 1000 new customers should be targeted to drive the most value for the organisation."
      ]
    },
    {
      "cell_type": "markdown",
      "metadata": {
        "id": "FLovVjfDdWZl"
      },
      "source": [
        "### Import important libraries which will be used in program."
      ]
    },
    {
      "cell_type": "code",
      "metadata": {
        "id": "ZqCaT3ZQdWZm"
      },
      "source": [
        "import pandas as pd\n",
        "import numpy as np\n",
        "import seaborn as sns\n",
        "import matplotlib.pyplot as plt\n",
        "import warnings \n",
        "import datetime"
      ],
      "execution_count": null,
      "outputs": []
    },
    {
      "cell_type": "markdown",
      "metadata": {
        "id": "jWG2_o3OdWZn"
      },
      "source": [
        "### Importing datasets into pandas dataframe."
      ]
    },
    {
      "cell_type": "code",
      "metadata": {
        "id": "gWuUJ7ijdWZp",
        "outputId": "acb4cc95-2025-462f-9494-c180157e09ae"
      },
      "source": [
        "cus_demo = pd.read_csv(r\"C:\\Users\\lenovo\\Downloads\\Virtual Internship 2020\\KPMG Virtual Internship\\KPMG_Customer_Demographic.csv\")\n",
        "cus_demo.head(2)"
      ],
      "execution_count": null,
      "outputs": [
        {
          "output_type": "execute_result",
          "data": {
            "text/html": [
              "<div>\n",
              "<style scoped>\n",
              "    .dataframe tbody tr th:only-of-type {\n",
              "        vertical-align: middle;\n",
              "    }\n",
              "\n",
              "    .dataframe tbody tr th {\n",
              "        vertical-align: top;\n",
              "    }\n",
              "\n",
              "    .dataframe thead th {\n",
              "        text-align: right;\n",
              "    }\n",
              "</style>\n",
              "<table border=\"1\" class=\"dataframe\">\n",
              "  <thead>\n",
              "    <tr style=\"text-align: right;\">\n",
              "      <th></th>\n",
              "      <th>customer_id</th>\n",
              "      <th>first_name</th>\n",
              "      <th>last_name</th>\n",
              "      <th>gender</th>\n",
              "      <th>past_3_years_bike_related_purchases</th>\n",
              "      <th>DOB</th>\n",
              "      <th>Age</th>\n",
              "      <th>job_title</th>\n",
              "      <th>job_industry_category</th>\n",
              "      <th>wealth_segment</th>\n",
              "      <th>deceased_indicator</th>\n",
              "      <th>owns_car</th>\n",
              "      <th>tenure</th>\n",
              "    </tr>\n",
              "  </thead>\n",
              "  <tbody>\n",
              "    <tr>\n",
              "      <th>0</th>\n",
              "      <td>1</td>\n",
              "      <td>Laraine</td>\n",
              "      <td>Medendorp</td>\n",
              "      <td>Female</td>\n",
              "      <td>93</td>\n",
              "      <td>12-10-53</td>\n",
              "      <td>67</td>\n",
              "      <td>Executive Secretary</td>\n",
              "      <td>Health</td>\n",
              "      <td>Mass Customer</td>\n",
              "      <td>N</td>\n",
              "      <td>Yes</td>\n",
              "      <td>11</td>\n",
              "    </tr>\n",
              "    <tr>\n",
              "      <th>1</th>\n",
              "      <td>2</td>\n",
              "      <td>Eli</td>\n",
              "      <td>Bockman</td>\n",
              "      <td>Male</td>\n",
              "      <td>81</td>\n",
              "      <td>16-12-80</td>\n",
              "      <td>40</td>\n",
              "      <td>Administrative Officer</td>\n",
              "      <td>Financial Services</td>\n",
              "      <td>Mass Customer</td>\n",
              "      <td>N</td>\n",
              "      <td>Yes</td>\n",
              "      <td>16</td>\n",
              "    </tr>\n",
              "  </tbody>\n",
              "</table>\n",
              "</div>"
            ],
            "text/plain": [
              "   customer_id first_name  last_name  gender  \\\n",
              "0            1    Laraine  Medendorp  Female   \n",
              "1            2        Eli    Bockman    Male   \n",
              "\n",
              "   past_3_years_bike_related_purchases       DOB  Age               job_title  \\\n",
              "0                                   93  12-10-53   67     Executive Secretary   \n",
              "1                                   81  16-12-80   40  Administrative Officer   \n",
              "\n",
              "  job_industry_category wealth_segment deceased_indicator owns_car  tenure  \n",
              "0                Health  Mass Customer                  N      Yes      11  \n",
              "1    Financial Services  Mass Customer                  N      Yes      16  "
            ]
          },
          "metadata": {
            "tags": []
          },
          "execution_count": 2
        }
      ]
    },
    {
      "cell_type": "code",
      "metadata": {
        "scrolled": true,
        "id": "bJ1DYi-MdWZq",
        "outputId": "b4c501e4-e6b0-44e7-9099-cdac8df97de1"
      },
      "source": [
        "cus_add = pd.read_csv(r\"C:\\Users\\lenovo\\Downloads\\Virtual Internship 2020\\KPMG Virtual Internship\\KPMG_Customer_Address.csv\")\n",
        "cus_add.head(2)"
      ],
      "execution_count": null,
      "outputs": [
        {
          "output_type": "execute_result",
          "data": {
            "text/html": [
              "<div>\n",
              "<style scoped>\n",
              "    .dataframe tbody tr th:only-of-type {\n",
              "        vertical-align: middle;\n",
              "    }\n",
              "\n",
              "    .dataframe tbody tr th {\n",
              "        vertical-align: top;\n",
              "    }\n",
              "\n",
              "    .dataframe thead th {\n",
              "        text-align: right;\n",
              "    }\n",
              "</style>\n",
              "<table border=\"1\" class=\"dataframe\">\n",
              "  <thead>\n",
              "    <tr style=\"text-align: right;\">\n",
              "      <th></th>\n",
              "      <th>customer_id</th>\n",
              "      <th>address</th>\n",
              "      <th>postcode</th>\n",
              "      <th>state</th>\n",
              "      <th>country</th>\n",
              "      <th>property_valuation</th>\n",
              "    </tr>\n",
              "  </thead>\n",
              "  <tbody>\n",
              "    <tr>\n",
              "      <th>0</th>\n",
              "      <td>1</td>\n",
              "      <td>060 Morning Avenue</td>\n",
              "      <td>2016</td>\n",
              "      <td>NSW</td>\n",
              "      <td>Australia</td>\n",
              "      <td>10</td>\n",
              "    </tr>\n",
              "    <tr>\n",
              "      <th>1</th>\n",
              "      <td>2</td>\n",
              "      <td>6 Meadow Vale Court</td>\n",
              "      <td>2153</td>\n",
              "      <td>NSW</td>\n",
              "      <td>Australia</td>\n",
              "      <td>10</td>\n",
              "    </tr>\n",
              "  </tbody>\n",
              "</table>\n",
              "</div>"
            ],
            "text/plain": [
              "   customer_id              address  postcode state    country  \\\n",
              "0            1   060 Morning Avenue      2016   NSW  Australia   \n",
              "1            2  6 Meadow Vale Court      2153   NSW  Australia   \n",
              "\n",
              "   property_valuation  \n",
              "0                  10  \n",
              "1                  10  "
            ]
          },
          "metadata": {
            "tags": []
          },
          "execution_count": 3
        }
      ]
    },
    {
      "cell_type": "code",
      "metadata": {
        "id": "QcbjtcKqdWZt",
        "outputId": "ec967000-f77a-4bd9-cc09-fa3e37983868"
      },
      "source": [
        "trans = pd.read_csv(r\"C:\\Users\\lenovo\\Downloads\\Virtual Internship 2020\\KPMG Virtual Internship\\KPMG_Transactions.csv\")\n",
        "trans.head(2)"
      ],
      "execution_count": null,
      "outputs": [
        {
          "output_type": "execute_result",
          "data": {
            "text/html": [
              "<div>\n",
              "<style scoped>\n",
              "    .dataframe tbody tr th:only-of-type {\n",
              "        vertical-align: middle;\n",
              "    }\n",
              "\n",
              "    .dataframe tbody tr th {\n",
              "        vertical-align: top;\n",
              "    }\n",
              "\n",
              "    .dataframe thead th {\n",
              "        text-align: right;\n",
              "    }\n",
              "</style>\n",
              "<table border=\"1\" class=\"dataframe\">\n",
              "  <thead>\n",
              "    <tr style=\"text-align: right;\">\n",
              "      <th></th>\n",
              "      <th>transaction_id</th>\n",
              "      <th>product_id</th>\n",
              "      <th>customer_id</th>\n",
              "      <th>transaction_date</th>\n",
              "      <th>online_order</th>\n",
              "      <th>order_status</th>\n",
              "      <th>brand</th>\n",
              "      <th>product_line</th>\n",
              "      <th>product_class</th>\n",
              "      <th>product_size</th>\n",
              "      <th>list_price($)</th>\n",
              "      <th>standard_cost($)</th>\n",
              "      <th>product_first_sold_date</th>\n",
              "      <th>Profit($)</th>\n",
              "      <th>Profit_Margin(%)</th>\n",
              "      <th>Transaction_Month</th>\n",
              "    </tr>\n",
              "  </thead>\n",
              "  <tbody>\n",
              "    <tr>\n",
              "      <th>0</th>\n",
              "      <td>2</td>\n",
              "      <td>3</td>\n",
              "      <td>3120</td>\n",
              "      <td>21-05-17</td>\n",
              "      <td>True</td>\n",
              "      <td>Approved</td>\n",
              "      <td>Trek Bicycles</td>\n",
              "      <td>Standard</td>\n",
              "      <td>medium</td>\n",
              "      <td>large</td>\n",
              "      <td>2091.47</td>\n",
              "      <td>388.92</td>\n",
              "      <td>03-03-14</td>\n",
              "      <td>1702.55</td>\n",
              "      <td>537.76</td>\n",
              "      <td>May</td>\n",
              "    </tr>\n",
              "    <tr>\n",
              "      <th>1</th>\n",
              "      <td>5</td>\n",
              "      <td>78</td>\n",
              "      <td>787</td>\n",
              "      <td>01-10-17</td>\n",
              "      <td>True</td>\n",
              "      <td>Approved</td>\n",
              "      <td>Giant Bicycles</td>\n",
              "      <td>Standard</td>\n",
              "      <td>medium</td>\n",
              "      <td>large</td>\n",
              "      <td>1765.30</td>\n",
              "      <td>709.48</td>\n",
              "      <td>10-08-15</td>\n",
              "      <td>1055.82</td>\n",
              "      <td>248.82</td>\n",
              "      <td>October</td>\n",
              "    </tr>\n",
              "  </tbody>\n",
              "</table>\n",
              "</div>"
            ],
            "text/plain": [
              "   transaction_id  product_id  customer_id transaction_date  online_order  \\\n",
              "0               2           3         3120         21-05-17          True   \n",
              "1               5          78          787         01-10-17          True   \n",
              "\n",
              "  order_status           brand product_line product_class product_size  \\\n",
              "0     Approved   Trek Bicycles     Standard        medium        large   \n",
              "1     Approved  Giant Bicycles     Standard        medium        large   \n",
              "\n",
              "   list_price($)  standard_cost($) product_first_sold_date  Profit($)  \\\n",
              "0        2091.47            388.92                03-03-14    1702.55   \n",
              "1        1765.30            709.48                10-08-15    1055.82   \n",
              "\n",
              "   Profit_Margin(%) Transaction_Month  \n",
              "0            537.76               May  \n",
              "1            248.82           October  "
            ]
          },
          "metadata": {
            "tags": []
          },
          "execution_count": 4
        }
      ]
    },
    {
      "cell_type": "markdown",
      "metadata": {
        "id": "H-H_dkq6dWZu"
      },
      "source": [
        "## Data Preprocessing"
      ]
    },
    {
      "cell_type": "markdown",
      "metadata": {
        "id": "QpNd_wQFdWZu"
      },
      "source": [
        "### Add new Age _category column in Customer Demographic dataset"
      ]
    },
    {
      "cell_type": "code",
      "metadata": {
        "scrolled": false,
        "id": "MFlyRvybdWZu",
        "outputId": "5f9ecfe4-3853-4faa-965e-80bae7079b62"
      },
      "source": [
        "cus_demo.loc[cus_demo['Age'] < 100, 'Age_category(yrs.)'] = 'Senior Citizen(61-100)'\n",
        "cus_demo.loc[cus_demo['Age'] < 60, 'Age_category(yrs.)'] = 'Senior Adult(50-60)'\n",
        "cus_demo.loc[cus_demo['Age'] < 49, 'Age_category(yrs.)'] = 'Adult(25-49)'\n",
        "cus_demo.loc[cus_demo['Age'] < 24, 'Age_category(yrs.)'] = 'Youth(<24)'\n",
        "\n",
        "cus_demo.head(4)"
      ],
      "execution_count": null,
      "outputs": [
        {
          "output_type": "execute_result",
          "data": {
            "text/html": [
              "<div>\n",
              "<style scoped>\n",
              "    .dataframe tbody tr th:only-of-type {\n",
              "        vertical-align: middle;\n",
              "    }\n",
              "\n",
              "    .dataframe tbody tr th {\n",
              "        vertical-align: top;\n",
              "    }\n",
              "\n",
              "    .dataframe thead th {\n",
              "        text-align: right;\n",
              "    }\n",
              "</style>\n",
              "<table border=\"1\" class=\"dataframe\">\n",
              "  <thead>\n",
              "    <tr style=\"text-align: right;\">\n",
              "      <th></th>\n",
              "      <th>customer_id</th>\n",
              "      <th>first_name</th>\n",
              "      <th>last_name</th>\n",
              "      <th>gender</th>\n",
              "      <th>past_3_years_bike_related_purchases</th>\n",
              "      <th>DOB</th>\n",
              "      <th>Age</th>\n",
              "      <th>job_title</th>\n",
              "      <th>job_industry_category</th>\n",
              "      <th>wealth_segment</th>\n",
              "      <th>deceased_indicator</th>\n",
              "      <th>owns_car</th>\n",
              "      <th>tenure</th>\n",
              "      <th>Age_category(yrs.)</th>\n",
              "    </tr>\n",
              "  </thead>\n",
              "  <tbody>\n",
              "    <tr>\n",
              "      <th>0</th>\n",
              "      <td>1</td>\n",
              "      <td>Laraine</td>\n",
              "      <td>Medendorp</td>\n",
              "      <td>Female</td>\n",
              "      <td>93</td>\n",
              "      <td>12-10-53</td>\n",
              "      <td>67</td>\n",
              "      <td>Executive Secretary</td>\n",
              "      <td>Health</td>\n",
              "      <td>Mass Customer</td>\n",
              "      <td>N</td>\n",
              "      <td>Yes</td>\n",
              "      <td>11</td>\n",
              "      <td>Senior Citizen(61-100)</td>\n",
              "    </tr>\n",
              "    <tr>\n",
              "      <th>1</th>\n",
              "      <td>2</td>\n",
              "      <td>Eli</td>\n",
              "      <td>Bockman</td>\n",
              "      <td>Male</td>\n",
              "      <td>81</td>\n",
              "      <td>16-12-80</td>\n",
              "      <td>40</td>\n",
              "      <td>Administrative Officer</td>\n",
              "      <td>Financial Services</td>\n",
              "      <td>Mass Customer</td>\n",
              "      <td>N</td>\n",
              "      <td>Yes</td>\n",
              "      <td>16</td>\n",
              "      <td>Adult(25-49)</td>\n",
              "    </tr>\n",
              "    <tr>\n",
              "      <th>2</th>\n",
              "      <td>3</td>\n",
              "      <td>Arlin</td>\n",
              "      <td>Dearle</td>\n",
              "      <td>Male</td>\n",
              "      <td>61</td>\n",
              "      <td>20-01-54</td>\n",
              "      <td>67</td>\n",
              "      <td>Recruiting Manager</td>\n",
              "      <td>Property</td>\n",
              "      <td>Mass Customer</td>\n",
              "      <td>N</td>\n",
              "      <td>Yes</td>\n",
              "      <td>15</td>\n",
              "      <td>Senior Citizen(61-100)</td>\n",
              "    </tr>\n",
              "    <tr>\n",
              "      <th>3</th>\n",
              "      <td>5</td>\n",
              "      <td>Sheila-kathryn</td>\n",
              "      <td>Calton</td>\n",
              "      <td>Female</td>\n",
              "      <td>56</td>\n",
              "      <td>13-05-77</td>\n",
              "      <td>43</td>\n",
              "      <td>Senior Editor</td>\n",
              "      <td>NaN</td>\n",
              "      <td>Affluent Customer</td>\n",
              "      <td>N</td>\n",
              "      <td>Yes</td>\n",
              "      <td>8</td>\n",
              "      <td>Adult(25-49)</td>\n",
              "    </tr>\n",
              "  </tbody>\n",
              "</table>\n",
              "</div>"
            ],
            "text/plain": [
              "   customer_id      first_name  last_name  gender  \\\n",
              "0            1         Laraine  Medendorp  Female   \n",
              "1            2             Eli    Bockman    Male   \n",
              "2            3           Arlin     Dearle    Male   \n",
              "3            5  Sheila-kathryn     Calton  Female   \n",
              "\n",
              "   past_3_years_bike_related_purchases       DOB  Age               job_title  \\\n",
              "0                                   93  12-10-53   67     Executive Secretary   \n",
              "1                                   81  16-12-80   40  Administrative Officer   \n",
              "2                                   61  20-01-54   67      Recruiting Manager   \n",
              "3                                   56  13-05-77   43           Senior Editor   \n",
              "\n",
              "  job_industry_category     wealth_segment deceased_indicator owns_car  \\\n",
              "0                Health      Mass Customer                  N      Yes   \n",
              "1    Financial Services      Mass Customer                  N      Yes   \n",
              "2              Property      Mass Customer                  N      Yes   \n",
              "3                   NaN  Affluent Customer                  N      Yes   \n",
              "\n",
              "   tenure      Age_category(yrs.)  \n",
              "0      11  Senior Citizen(61-100)  \n",
              "1      16            Adult(25-49)  \n",
              "2      15  Senior Citizen(61-100)  \n",
              "3       8            Adult(25-49)  "
            ]
          },
          "metadata": {
            "tags": []
          },
          "execution_count": 5
        }
      ]
    },
    {
      "cell_type": "markdown",
      "metadata": {
        "id": "vNCSHKDhdWZv"
      },
      "source": [
        "#### Change datatype of Customer Demographic column to numeric."
      ]
    },
    {
      "cell_type": "code",
      "metadata": {
        "scrolled": true,
        "id": "QSL7RGsFdWZv",
        "outputId": "11440139-1bc3-4350-b12e-0aa6194aa988"
      },
      "source": [
        "cus_demo[\"Age\"] = pd.to_numeric(cus_demo[\"Age\"])    \n",
        "cus_demo[\"tenure\"] = pd.to_numeric(cus_demo[\"tenure\"])    \n",
        "cus_demo[\"past_3_years_bike_related_purchases\"] = pd.to_numeric(cus_demo[\"past_3_years_bike_related_purchases\"])  \n",
        "cus_demo.head(2)\n",
        "cus_demo.shape"
      ],
      "execution_count": null,
      "outputs": [
        {
          "output_type": "execute_result",
          "data": {
            "text/plain": [
              "(3413, 14)"
            ]
          },
          "metadata": {
            "tags": []
          },
          "execution_count": 6
        }
      ]
    },
    {
      "cell_type": "code",
      "metadata": {
        "id": "A5JOc11ndWZw",
        "outputId": "a9f5a3d6-df27-4a4b-fb66-6a1d64e99d61"
      },
      "source": [
        "## CAlculate total number of null/missing values in customer deomgraphic dataframe.\n",
        "cus_demo.isnull().sum()"
      ],
      "execution_count": null,
      "outputs": [
        {
          "output_type": "execute_result",
          "data": {
            "text/plain": [
              "customer_id                              0\n",
              "first_name                               0\n",
              "last_name                              105\n",
              "gender                                   0\n",
              "past_3_years_bike_related_purchases      0\n",
              "DOB                                      0\n",
              "Age                                      0\n",
              "job_title                                0\n",
              "job_industry_category                  551\n",
              "wealth_segment                           0\n",
              "deceased_indicator                       0\n",
              "owns_car                                 0\n",
              "tenure                                   0\n",
              "Age_category(yrs.)                       0\n",
              "dtype: int64"
            ]
          },
          "metadata": {
            "tags": []
          },
          "execution_count": 7
        }
      ]
    },
    {
      "cell_type": "markdown",
      "metadata": {
        "id": "NrWlDxAfdWZw"
      },
      "source": [
        "#### Check total number of customers in customer demographic data set."
      ]
    },
    {
      "cell_type": "code",
      "metadata": {
        "scrolled": true,
        "id": "8d0zUZ09dWZx",
        "outputId": "1fbc6030-3eba-4d43-e83b-acee354b80e4"
      },
      "source": [
        "cus_demo['customer_id'].value_counts()"
      ],
      "execution_count": null,
      "outputs": [
        {
          "output_type": "execute_result",
          "data": {
            "text/plain": [
              "2047    1\n",
              "641     1\n",
              "637     1\n",
              "2684    1\n",
              "633     1\n",
              "       ..\n",
              "3327    1\n",
              "1278    1\n",
              "3323    1\n",
              "1274    1\n",
              "2049    1\n",
              "Name: customer_id, Length: 3413, dtype: int64"
            ]
          },
          "metadata": {
            "tags": []
          },
          "execution_count": 8
        }
      ]
    },
    {
      "cell_type": "markdown",
      "metadata": {
        "id": "K_hMskZ4dWZx"
      },
      "source": [
        "#### Remove null values of job industry category from customer demographic dataframe"
      ]
    },
    {
      "cell_type": "code",
      "metadata": {
        "id": "suINLX3vdWZx",
        "outputId": "fc8ce93d-f828-41bc-e0be-96cfd8022f55"
      },
      "source": [
        "cus_demo_nan_job = cus_demo.dropna(subset = ['job_industry_category'], how ='all')\n",
        "cus_demo_nan_job.head(3)\n",
        "\n",
        "## Check shape of dataframe\n",
        "cus_demo_nan_job.shape"
      ],
      "execution_count": null,
      "outputs": [
        {
          "output_type": "execute_result",
          "data": {
            "text/plain": [
              "(2862, 14)"
            ]
          },
          "metadata": {
            "tags": []
          },
          "execution_count": 9
        }
      ]
    },
    {
      "cell_type": "code",
      "metadata": {
        "id": "_RqDJqbEdWZy",
        "outputId": "f2f5d437-4a20-4f46-d543-1e13bbe1d026"
      },
      "source": [
        "## Check total number of customers after removing null values in job category coulmn in cus_demo dataframe.\n",
        "cus_demo_nan_job['customer_id'].value_counts()"
      ],
      "execution_count": null,
      "outputs": [
        {
          "output_type": "execute_result",
          "data": {
            "text/plain": [
              "2047    1\n",
              "1314    1\n",
              "3397    1\n",
              "1346    1\n",
              "3393    1\n",
              "       ..\n",
              "2688    1\n",
              "639     1\n",
              "2686    1\n",
              "637     1\n",
              "2049    1\n",
              "Name: customer_id, Length: 2862, dtype: int64"
            ]
          },
          "metadata": {
            "tags": []
          },
          "execution_count": 10
        }
      ]
    },
    {
      "cell_type": "markdown",
      "metadata": {
        "id": "h7yaFy78dWZy"
      },
      "source": [
        "### Change datatype of column in Transactions Dataset"
      ]
    },
    {
      "cell_type": "code",
      "metadata": {
        "id": "bHVBEOM4dWZy",
        "outputId": "aa79fcfd-859f-439c-c1b9-858c237d7d71"
      },
      "source": [
        "trans[\"Profit($)\"] = pd.to_numeric(trans[\"Profit($)\"])\n",
        "trans[\"Profit_Margin(%)\"] = pd.to_numeric(trans[\"Profit_Margin(%)\"])\n",
        "trans[\"list_price($)\"] = pd.to_numeric(trans[\"list_price($)\"])\n",
        "trans[\"standard_cost($)\"] = pd.to_numeric(trans[\"standard_cost($)\"])\n",
        "\n",
        "## Check shape of transaction  dataset.\n",
        "trans.shape"
      ],
      "execution_count": null,
      "outputs": [
        {
          "output_type": "execute_result",
          "data": {
            "text/plain": [
              "(9642, 16)"
            ]
          },
          "metadata": {
            "tags": []
          },
          "execution_count": 11
        }
      ]
    },
    {
      "cell_type": "code",
      "metadata": {
        "id": "UKi1hC2cdWZz",
        "outputId": "39fe7fc2-c8e0-43da-8b2d-4c9253b2f68d"
      },
      "source": [
        "## Check total number of customers in transaction dataset.\n",
        "trans['customer_id'].value_counts()"
      ],
      "execution_count": null,
      "outputs": [
        {
          "output_type": "execute_result",
          "data": {
            "text/plain": [
              "353     9\n",
              "2946    9\n",
              "3020    9\n",
              "2240    8\n",
              "2508    8\n",
              "       ..\n",
              "1924    1\n",
              "2076    1\n",
              "1017    1\n",
              "2092    1\n",
              "2047    1\n",
              "Name: customer_id, Length: 3291, dtype: int64"
            ]
          },
          "metadata": {
            "tags": []
          },
          "execution_count": 13
        }
      ]
    },
    {
      "cell_type": "code",
      "metadata": {
        "id": "DH0afd9idWZz",
        "outputId": "4b2e893b-a7d2-4aab-bc0c-7c149ad0c078"
      },
      "source": [
        "## Check shape of customer address dataset.\n",
        "cus_add.shape"
      ],
      "execution_count": null,
      "outputs": [
        {
          "output_type": "execute_result",
          "data": {
            "text/plain": [
              "(3999, 6)"
            ]
          },
          "metadata": {
            "tags": []
          },
          "execution_count": 14
        }
      ]
    },
    {
      "cell_type": "markdown",
      "metadata": {
        "id": "JTusNxdedWZz"
      },
      "source": [
        "#### Create new dataframe which is intersaction of transaction customer or cus_demo and cus_address."
      ]
    },
    {
      "cell_type": "code",
      "metadata": {
        "id": "mwaae3YldWZ0"
      },
      "source": [
        "trans_cus = pd.merge(cus_demo, trans, on=\"customer_id\", how='inner')"
      ],
      "execution_count": null,
      "outputs": []
    },
    {
      "cell_type": "code",
      "metadata": {
        "id": "qwOth_NvdWZ0",
        "outputId": "be18c4e0-6b21-4aee-e3b4-06db80279361"
      },
      "source": [
        "trans_cus.head(3)\n",
        "trans_cus.shape"
      ],
      "execution_count": null,
      "outputs": [
        {
          "output_type": "execute_result",
          "data": {
            "text/plain": [
              "(8308, 29)"
            ]
          },
          "metadata": {
            "tags": []
          },
          "execution_count": 16
        }
      ]
    },
    {
      "cell_type": "code",
      "metadata": {
        "id": "-IKkJimbdWZ0",
        "outputId": "d709a237-2d8b-4431-bded-f720c8eab37e"
      },
      "source": [
        "## Count total number of customers who have done transactions.\n",
        "trans['customer_id'].value_counts()"
      ],
      "execution_count": null,
      "outputs": [
        {
          "output_type": "execute_result",
          "data": {
            "text/plain": [
              "353     9\n",
              "2946    9\n",
              "3020    9\n",
              "2240    8\n",
              "2508    8\n",
              "       ..\n",
              "1924    1\n",
              "2076    1\n",
              "1017    1\n",
              "2092    1\n",
              "2047    1\n",
              "Name: customer_id, Length: 3291, dtype: int64"
            ]
          },
          "metadata": {
            "tags": []
          },
          "execution_count": 17
        }
      ]
    },
    {
      "cell_type": "code",
      "metadata": {
        "id": "GVKyNQ_JdWZ1"
      },
      "source": [
        "## Create a intersaction dataframe of customer demographic with transaction and there address dataframe. \n",
        "combo_cus = pd.merge(trans_cus, cus_add, on='customer_id', how='inner')"
      ],
      "execution_count": null,
      "outputs": []
    },
    {
      "cell_type": "code",
      "metadata": {
        "id": "0hXuMZVudWZ1",
        "outputId": "d6c1864e-51e6-4af1-e39a-2a4cdf4ddac3"
      },
      "source": [
        "## Shape of intersaction dataframe.\n",
        "combo_cus.shape"
      ],
      "execution_count": null,
      "outputs": [
        {
          "output_type": "execute_result",
          "data": {
            "text/plain": [
              "(8305, 34)"
            ]
          },
          "metadata": {
            "tags": []
          },
          "execution_count": 19
        }
      ]
    },
    {
      "cell_type": "code",
      "metadata": {
        "id": "KM8k4TUDdWZ3",
        "outputId": "597e24fd-6879-4c86-afe5-ff6940ceeaa0"
      },
      "source": [
        "combo_cus['customer_id'].value_counts()"
      ],
      "execution_count": null,
      "outputs": [
        {
          "output_type": "execute_result",
          "data": {
            "text/plain": [
              "3020    9\n",
              "353     9\n",
              "25      8\n",
              "127     8\n",
              "2309    8\n",
              "       ..\n",
              "483     1\n",
              "2514    1\n",
              "427     1\n",
              "2474    1\n",
              "1827    1\n",
              "Name: customer_id, Length: 2834, dtype: int64"
            ]
          },
          "metadata": {
            "tags": []
          },
          "execution_count": 20
        }
      ]
    },
    {
      "cell_type": "code",
      "metadata": {
        "id": "HiuhYZFidWZ4",
        "outputId": "0e1e6fb5-4551-495d-b08c-2679a271277a"
      },
      "source": [
        "## Columns name of intersaction dataframe of three dataframe.\n",
        "combo_cus.columns"
      ],
      "execution_count": null,
      "outputs": [
        {
          "output_type": "execute_result",
          "data": {
            "text/plain": [
              "Index(['customer_id', 'first_name', 'last_name', 'gender',\n",
              "       'past_3_years_bike_related_purchases', 'DOB', 'Age', 'job_title',\n",
              "       'job_industry_category', 'wealth_segment', 'deceased_indicator',\n",
              "       'owns_car', 'tenure', 'Age_category(yrs.)', 'transaction_id',\n",
              "       'product_id', 'transaction_date', 'online_order', 'order_status',\n",
              "       'brand', 'product_line', 'product_class', 'product_size',\n",
              "       'list_price($)', 'standard_cost($)', 'product_first_sold_date',\n",
              "       'Profit($)', 'Profit_Margin(%)', 'Transaction_Month', 'address',\n",
              "       'postcode', 'state', 'country', 'property_valuation'],\n",
              "      dtype='object')"
            ]
          },
          "metadata": {
            "tags": []
          },
          "execution_count": 21
        }
      ]
    },
    {
      "cell_type": "code",
      "metadata": {
        "id": "Sl1GhQkUdWZ5",
        "outputId": "9ba4ab6b-70a4-4e82-847a-276d16b5f63d"
      },
      "source": [
        "combo_cus.info()"
      ],
      "execution_count": null,
      "outputs": [
        {
          "output_type": "stream",
          "text": [
            "<class 'pandas.core.frame.DataFrame'>\n",
            "Int64Index: 8305 entries, 0 to 8304\n",
            "Data columns (total 34 columns):\n",
            " #   Column                               Non-Null Count  Dtype  \n",
            "---  ------                               --------------  -----  \n",
            " 0   customer_id                          8305 non-null   int64  \n",
            " 1   first_name                           8305 non-null   object \n",
            " 2   last_name                            8029 non-null   object \n",
            " 3   gender                               8305 non-null   object \n",
            " 4   past_3_years_bike_related_purchases  8305 non-null   int64  \n",
            " 5   DOB                                  8305 non-null   object \n",
            " 6   Age                                  8305 non-null   int64  \n",
            " 7   job_title                            8305 non-null   object \n",
            " 8   job_industry_category                6946 non-null   object \n",
            " 9   wealth_segment                       8305 non-null   object \n",
            " 10  deceased_indicator                   8305 non-null   object \n",
            " 11  owns_car                             8305 non-null   object \n",
            " 12  tenure                               8305 non-null   int64  \n",
            " 13  Age_category(yrs.)                   8305 non-null   object \n",
            " 14  transaction_id                       8305 non-null   int64  \n",
            " 15  product_id                           8305 non-null   int64  \n",
            " 16  transaction_date                     8305 non-null   object \n",
            " 17  online_order                         8305 non-null   bool   \n",
            " 18  order_status                         8305 non-null   object \n",
            " 19  brand                                8305 non-null   object \n",
            " 20  product_line                         8305 non-null   object \n",
            " 21  product_class                        8305 non-null   object \n",
            " 22  product_size                         8305 non-null   object \n",
            " 23  list_price($)                        8305 non-null   float64\n",
            " 24  standard_cost($)                     8305 non-null   float64\n",
            " 25  product_first_sold_date              8305 non-null   object \n",
            " 26  Profit($)                            8305 non-null   float64\n",
            " 27  Profit_Margin(%)                     8305 non-null   float64\n",
            " 28  Transaction_Month                    8305 non-null   object \n",
            " 29  address                              8305 non-null   object \n",
            " 30  postcode                             8305 non-null   int64  \n",
            " 31  state                                8305 non-null   object \n",
            " 32  country                              8305 non-null   object \n",
            " 33  property_valuation                   8305 non-null   int64  \n",
            "dtypes: bool(1), float64(4), int64(8), object(21)\n",
            "memory usage: 1.5+ MB\n"
          ],
          "name": "stdout"
        }
      ]
    },
    {
      "cell_type": "code",
      "metadata": {
        "id": "gw_4cldNdWZ5",
        "outputId": "28cbdbe3-f09a-4afe-f59f-c79442bf3338"
      },
      "source": [
        "combo_cus.transaction_date"
      ],
      "execution_count": null,
      "outputs": [
        {
          "output_type": "execute_result",
          "data": {
            "text/plain": [
              "0       06-04-17\n",
              "1       11-05-17\n",
              "2       14-12-17\n",
              "3       04-06-17\n",
              "4       09-12-17\n",
              "          ...   \n",
              "8300    18-04-17\n",
              "8301    15-04-17\n",
              "8302    02-04-17\n",
              "8303    08-11-17\n",
              "8304    01-09-17\n",
              "Name: transaction_date, Length: 8305, dtype: object"
            ]
          },
          "metadata": {
            "tags": []
          },
          "execution_count": 51
        }
      ]
    },
    {
      "cell_type": "code",
      "metadata": {
        "id": "mVcr-SNKdWZ5"
      },
      "source": [
        ""
      ],
      "execution_count": null,
      "outputs": []
    },
    {
      "cell_type": "code",
      "metadata": {
        "id": "fr1UIydudWZ6"
      },
      "source": [
        ""
      ],
      "execution_count": null,
      "outputs": []
    },
    {
      "cell_type": "code",
      "metadata": {
        "id": "9RL9ttI9dWZ6"
      },
      "source": [
        ""
      ],
      "execution_count": null,
      "outputs": []
    },
    {
      "cell_type": "code",
      "metadata": {
        "id": "SQd6MeZsdWZ6"
      },
      "source": [
        ""
      ],
      "execution_count": null,
      "outputs": []
    },
    {
      "cell_type": "markdown",
      "metadata": {
        "id": "uKj9E3iQdWZ6"
      },
      "source": [
        "## Data Exploration & Visualization"
      ]
    },
    {
      "cell_type": "code",
      "metadata": {
        "id": "bq6Yjm1QdWZ6",
        "outputId": "4706cb6d-5e1d-4266-9889-85558b96f826"
      },
      "source": [
        "sns.boxplot(x='Transaction_Month', y='past_3_years_bike_related_purchases', data=combo_cus)\n",
        "plt.xticks(rotation='vertical')\n",
        "plt.show()"
      ],
      "execution_count": null,
      "outputs": [
        {
          "output_type": "display_data",
          "data": {
            "image/png": "[encoded data removed]",
            "text/plain": [
              "<Figure size 432x288 with 1 Axes>"
            ]
          },
          "metadata": {
            "tags": [],
            "needs_background": "light"
          }
        }
      ]
    },
    {
      "cell_type": "code",
      "metadata": {
        "id": "MKfi0cNGdWZ6"
      },
      "source": [
        ""
      ],
      "execution_count": null,
      "outputs": []
    },
    {
      "cell_type": "code",
      "metadata": {
        "id": "1pbDcCTvdWZ7"
      },
      "source": [
        ""
      ],
      "execution_count": null,
      "outputs": []
    },
    {
      "cell_type": "code",
      "metadata": {
        "id": "ae3rdwaLdWZ7"
      },
      "source": [
        ""
      ],
      "execution_count": null,
      "outputs": []
    },
    {
      "cell_type": "code",
      "metadata": {
        "id": "2CrMWxI6dWZ7"
      },
      "source": [
        ""
      ],
      "execution_count": null,
      "outputs": []
    },
    {
      "cell_type": "code",
      "metadata": {
        "id": "I_9ztgZxdWZ7"
      },
      "source": [
        ""
      ],
      "execution_count": null,
      "outputs": []
    },
    {
      "cell_type": "markdown",
      "metadata": {
        "id": "cUOTSyjcdWZ7"
      },
      "source": [
        "## Cutomer Address Dataframe "
      ]
    },
    {
      "cell_type": "markdown",
      "metadata": {
        "id": "FM5YnhXXdWZ8"
      },
      "source": [
        "### Which states has more number of bike customers."
      ]
    },
    {
      "cell_type": "code",
      "metadata": {
        "scrolled": true,
        "id": "Z4KyAff0dWZ8",
        "outputId": "a14ce4de-94ee-4f13-8725-e2c6a5e895cc"
      },
      "source": [
        "bar_graph1= plt.bar(cus_add.state.unique(), cus_add[\"state\"].value_counts())\n",
        "\n",
        "bar_graph1[0].set_color('#FF5F6D')\n",
        "bar_graph1[1].set_color('#19547b')\n",
        "bar_graph1[2].set_color('#6A82FB')\n",
        "\n",
        "plt.ylabel('Number of Customer', color='g')\n",
        "plt.xlabel('State', color='r')\n",
        "plt.title(\"Customer vs State\")\n",
        "plt.show()"
      ],
      "execution_count": null,
      "outputs": [
        {
          "output_type": "display_data",
          "data": {
            "image/png": "[encoded data removed]",
            "text/plain": [
              "<Figure size 432x288 with 1 Axes>"
            ]
          },
          "metadata": {
            "tags": [],
            "needs_background": "light"
          }
        }
      ]
    },
    {
      "cell_type": "markdown",
      "metadata": {
        "id": "VGDjEwOVdWZ8"
      },
      "source": [
        "According to data, New South Wales(NSW) people purchased more bikes and cycles.Sprocket Central Pty Ltd have more customer base in NSW and lesser in VIC. That means they still need to work on marketing to reach out their product to VIC."
      ]
    },
    {
      "cell_type": "markdown",
      "metadata": {
        "id": "NrUtmotBdWZ9"
      },
      "source": [
        "## Customer Demographic Dataframe "
      ]
    },
    {
      "cell_type": "markdown",
      "metadata": {
        "id": "sDE4uXJ4dWZ9"
      },
      "source": [
        "### Which gender purchases more bikes."
      ]
    },
    {
      "cell_type": "code",
      "metadata": {
        "id": "kWYwnjWBdWZ-",
        "outputId": "8f9ee35e-0a5b-40e0-e6e3-b6d034cdeb94"
      },
      "source": [
        "bar_graph2 = plt.bar(cus_demo.gender.unique(), cus_demo[\"gender\"].value_counts() )\n",
        "\n",
        "bar_graph2[0].set_color('#FF5F6D')\n",
        "bar_graph2[1].set_color('#19547b')\n",
        "\n",
        "plt.ylabel('Number of Customer', color ='g')\n",
        "plt.xlabel('Gender', color='r')\n",
        "plt.title(\"Customer vs Gender\")\n",
        "plt.show()"
      ],
      "execution_count": null,
      "outputs": [
        {
          "output_type": "display_data",
          "data": {
            "image/png": "[encoded data removed]",
            "text/plain": [
              "<Figure size 432x288 with 1 Axes>"
            ]
          },
          "metadata": {
            "tags": [],
            "needs_background": "light"
          }
        }
      ]
    },
    {
      "cell_type": "markdown",
      "metadata": {
        "id": "cEGIuGMKdWZ-"
      },
      "source": [
        "Sprocket Central Pty Ltd company has slightly more female customers than male. But the difference is not so large."
      ]
    },
    {
      "cell_type": "markdown",
      "metadata": {
        "id": "UQssXicPdWZ-"
      },
      "source": [
        "### Customers of different age group"
      ]
    },
    {
      "cell_type": "code",
      "metadata": {
        "id": "0fWJ8uyedWZ_",
        "outputId": "7d9eb6c0-7ce9-40cb-ebd2-cbe657de6579"
      },
      "source": [
        "sns.countplot(x='Age_category(yrs.)', data= cus_demo, palette='hls')\n",
        "plt.xticks(rotation ='vertical')\n",
        "plt.show()"
      ],
      "execution_count": null,
      "outputs": [
        {
          "output_type": "display_data",
          "data": {
            "image/png": "[encoded data removed]",
            "text/plain": [
              "<Figure size 432x288 with 1 Axes>"
            ]
          },
          "metadata": {
            "tags": [],
            "needs_background": "light"
          }
        }
      ]
    },
    {
      "cell_type": "markdown",
      "metadata": {
        "id": "_LgXoXnCdWZ_"
      },
      "source": [
        "### Exploring bikes customers who owns car."
      ]
    },
    {
      "cell_type": "code",
      "metadata": {
        "id": "DuRHTgkNdWZ_",
        "outputId": "d4fa9c57-78d8-4cb9-ae13-ae8476dc0a27"
      },
      "source": [
        "bar_graph3 = plt.bar(cus_demo.owns_car.unique(), cus_demo[\"owns_car\"].value_counts())\n",
        "\n",
        "bar_graph3[0].set_color('#00c3ff')\n",
        "bar_graph3[1].set_color('#f7797d')\n",
        "\n",
        "plt.ylabel('Customer who owns car?', color ='g')\n",
        "plt.xlabel('Yes / No', color='r')\n",
        "plt.show()"
      ],
      "execution_count": null,
      "outputs": [
        {
          "output_type": "display_data",
          "data": {
            "image/png": "[encoded data removed]",
            "text/plain": [
              "<Figure size 432x288 with 1 Axes>"
            ]
          },
          "metadata": {
            "tags": [],
            "needs_background": "light"
          }
        }
      ]
    },
    {
      "cell_type": "markdown",
      "metadata": {
        "id": "mqpNIV3adWaA"
      },
      "source": [
        "According to data, most of the customers who purchases bike and cycling accessories from Sprocket Central Pty Ltd have car. May be their work place is near to their house or they are helping in reducing greenhouse gas production. But there is negligible difference. "
      ]
    },
    {
      "cell_type": "markdown",
      "metadata": {
        "id": "C4cCua8TdWaA"
      },
      "source": [
        "###  Which wealth segment purchases more bikes."
      ]
    },
    {
      "cell_type": "code",
      "metadata": {
        "id": "iRKuesI4dWaA",
        "outputId": "d5bed3de-4cdf-40d3-99d4-c146b2a903c1"
      },
      "source": [
        "bar_graph4 = plt.bar(cus_demo.wealth_segment.unique(), cus_demo[\"wealth_segment\"].value_counts())\n",
        "\n",
        "bar_graph4[0].set_color('#FF5F9D')\n",
        "bar_graph4[1].set_color('#c471ed')\n",
        "bar_graph4[2].set_color('#2193b0')\n",
        "\n",
        "plt.ylabel('Number of customer', color='g')\n",
        "plt.xlabel('Wealth Segment', color='r')\n",
        "plt.title(\"No. of Customer vs Wealth Segment\")\n",
        "plt.show()"
      ],
      "execution_count": null,
      "outputs": [
        {
          "output_type": "display_data",
          "data": {
            "image/png": "[encoded data removed]",
            "text/plain": [
              "<Figure size 432x288 with 1 Axes>"
            ]
          },
          "metadata": {
            "tags": [],
            "needs_background": "light"
          }
        }
      ]
    },
    {
      "cell_type": "markdown",
      "metadata": {
        "id": "3_hV0Mk3dWaA"
      },
      "source": [
        "A large number customers who purchased bikes and cycling accessories from Sprocket Central Pty Ltd belongs to \"Mass customer\" wealth segment category. "
      ]
    },
    {
      "cell_type": "markdown",
      "metadata": {
        "id": "reKwoR6KdWaB"
      },
      "source": [
        "### Which gender purchased more bikes in past 3 years."
      ]
    },
    {
      "cell_type": "code",
      "metadata": {
        "id": "bbPm1YyYdWaB",
        "outputId": "7d59cebb-4827-4275-b337-cbe3c98c41a5"
      },
      "source": [
        "results1 = cus_demo.groupby(\"gender\").sum()\n",
        "bar_graph5 = plt.bar(cus_demo.gender.unique(), results1[\"past_3_years_bike_related_purchases\"])\n",
        "\n",
        "bar_graph5[0].set_color('#FF5F6D')\n",
        "bar_graph5[1].set_color('#19547b')\n",
        "\n",
        "plt.ylabel('Past 3(yrs) bike related purchases', color='g')\n",
        "plt.xlabel('Gender', color='r')\n",
        "plt.title(\"Past 3(yrs) bike related purchase vs Gender\")\n",
        "plt.show()"
      ],
      "execution_count": null,
      "outputs": [
        {
          "output_type": "display_data",
          "data": {
            "image/png": "[encoded data removed]",
            "text/plain": [
              "<Figure size 432x288 with 1 Axes>"
            ]
          },
          "metadata": {
            "tags": [],
            "needs_background": "light"
          }
        }
      ]
    },
    {
      "cell_type": "markdown",
      "metadata": {
        "id": "x-gHTNCidWaC"
      },
      "source": [
        "In past 3 years female purchased more bikes related accessories from Sprocket Central Pty Ltd. They should launch some exclusive products for female customers to increase their sales."
      ]
    },
    {
      "cell_type": "markdown",
      "metadata": {
        "id": "AxZAbPTKdWaC"
      },
      "source": [
        "### Customers belongs to which job industry."
      ]
    },
    {
      "cell_type": "code",
      "metadata": {
        "id": "WIWaaUWLdWaC",
        "outputId": "0064afe7-489c-4292-de3a-df82bc68efa2"
      },
      "source": [
        "sns.countplot(x='job_industry_category', data= cus_demo_nan_job, palette='hls')\n",
        "plt.xticks(rotation ='vertical')\n",
        "plt.show()"
      ],
      "execution_count": null,
      "outputs": [
        {
          "output_type": "display_data",
          "data": {
            "image/png": "[encoded data removed]",
            "text/plain": [
              "<Figure size 432x288 with 1 Axes>"
            ]
          },
          "metadata": {
            "tags": [],
            "needs_background": "light"
          }
        }
      ]
    },
    {
      "cell_type": "markdown",
      "metadata": {
        "id": "fgz-8eR-dWaC"
      },
      "source": [
        "## Transactions Dataset"
      ]
    },
    {
      "cell_type": "markdown",
      "metadata": {
        "id": "3PAlqZ6udWaC"
      },
      "source": [
        "### Number of customer month wise"
      ]
    },
    {
      "cell_type": "code",
      "metadata": {
        "id": "M4ru77C3dWaD",
        "outputId": "d87362a1-c6a5-4f4d-d80d-6356e0e1f2fe"
      },
      "source": [
        "plt.bar(trans.Transaction_Month.unique(), trans[\"Transaction_Month\"].value_counts())\n",
        "\n",
        "plt.xticks(rotation='vertical')\n",
        "plt.ylabel('Number of Customer', color='g')\n",
        "plt.xlabel('Month', color='r')\n",
        "plt.title(\"Customer vs Month\")\n",
        "plt.show()"
      ],
      "execution_count": null,
      "outputs": [
        {
          "output_type": "display_data",
          "data": {
            "image/png": "[encoded data removed]",
            "text/plain": [
              "<Figure size 432x288 with 1 Axes>"
            ]
          },
          "metadata": {
            "tags": [],
            "needs_background": "light"
          }
        }
      ]
    },
    {
      "cell_type": "markdown",
      "metadata": {
        "id": "32YK1WY5dWaD"
      },
      "source": [
        "### Which size of product is most selling and the does the cost of product increases sell."
      ]
    },
    {
      "cell_type": "code",
      "metadata": {
        "id": "rbiiH0BPdWaD",
        "outputId": "8ee40cb2-1e8a-4813-d6ef-d75f8e51f868"
      },
      "source": [
        "results9 = trans.groupby(\"product_size\").sum()\n",
        "\n",
        "fig, ax1=plt.subplots()\n",
        "\n",
        "ax2 = ax1.twinx()\n",
        "ax1.bar(trans.product_size.unique(), trans[\"product_size\"].value_counts(), color = '#3fada8')\n",
        "ax2.plot(trans.product_size.unique(), results9[\"standard_cost($)\"], 'b-')\n",
        "\n",
        "ax1.set_xlabel('Product Size')\n",
        "ax1.set_ylabel('Number of Customer', color ='g')\n",
        "ax2.set_ylabel('Standard Cost ($)', color='b')\n",
        "plt.title(\"Number of Customer vs Product vs Standard Price ($)\")\n",
        "plt.show()"
      ],
      "execution_count": null,
      "outputs": [
        {
          "output_type": "display_data",
          "data": {
            "image/png": "[encoded data removed]",
            "text/plain": [
              "<Figure size 432x288 with 2 Axes>"
            ]
          },
          "metadata": {
            "tags": [],
            "needs_background": "light"
          }
        }
      ]
    },
    {
      "cell_type": "markdown",
      "metadata": {
        "id": "2Wm4QSvWdWaE"
      },
      "source": [
        "It is clearly shown in graph that large size product has higher demand. One of the main reason of highest sell of large size product is the lesser cost. According to this low price product attracts highest number of customers."
      ]
    },
    {
      "cell_type": "markdown",
      "metadata": {
        "id": "RmTfFOtBdWaE"
      },
      "source": [
        "### Profit Margin (%) return by product of different size. "
      ]
    },
    {
      "cell_type": "code",
      "metadata": {
        "id": "jlhrna7-dWaE",
        "outputId": "89c070af-0994-4cdc-f6f2-f8e33deff8dc"
      },
      "source": [
        "results3 = trans.groupby(\"product_size\").sum()\n",
        "plt.bar(trans.product_size.unique(), results3[\"Profit_Margin(%)\"], color='#d38312')\n",
        "\n",
        "plt.ylabel('Profit Margin(%)', color='g')\n",
        "plt.xlabel('Product Size')\n",
        "plt.title(\"Profit Margin (%) vs Product Size\")\n",
        "plt.show()"
      ],
      "execution_count": null,
      "outputs": [
        {
          "output_type": "display_data",
          "data": {
            "image/png": "[encoded data removed]",
            "text/plain": [
              "<Figure size 432x288 with 1 Axes>"
            ]
          },
          "metadata": {
            "tags": [],
            "needs_background": "light"
          }
        }
      ]
    },
    {
      "cell_type": "markdown",
      "metadata": {
        "id": "TATPY4XodWaE"
      },
      "source": [
        "### Which brand is most selling brand."
      ]
    },
    {
      "cell_type": "code",
      "metadata": {
        "scrolled": true,
        "id": "VmhA4CxBdWaF",
        "outputId": "387c3e6e-e8d7-492f-f67c-c019fdb177da"
      },
      "source": [
        "plt.bar(trans.brand.unique(), trans[\"brand\"].value_counts(), color='#556270')\n",
        "\n",
        "plt.xticks(rotation = \"vertical\", size=10)\n",
        "plt.ylabel('Number of Customer', color='g')\n",
        "plt.xlabel('Brand')\n",
        "plt.title(\"No. of Customer vs Brand\")\n",
        "plt.show()"
      ],
      "execution_count": null,
      "outputs": [
        {
          "output_type": "display_data",
          "data": {
            "image/png": "[encoded data removed]",
            "text/plain": [
              "<Figure size 432x288 with 1 Axes>"
            ]
          },
          "metadata": {
            "tags": [],
            "needs_background": "light"
          }
        }
      ]
    },
    {
      "cell_type": "markdown",
      "metadata": {
        "id": "0z4Xz_iXdWaF"
      },
      "source": [
        "According to transactions dataframe, most selling brand of Sprocket Central Pty Ltd is Trek Bicycles and their is not much difference in other brands."
      ]
    },
    {
      "cell_type": "markdown",
      "metadata": {
        "id": "-5dfXayqdWaF"
      },
      "source": [
        "### Which brand has higher profit margin (%)."
      ]
    },
    {
      "cell_type": "code",
      "metadata": {
        "scrolled": true,
        "id": "v53cvluDdWaG",
        "outputId": "a921b02f-9216-48d6-f6ce-2ed57358944e"
      },
      "source": [
        "results2 = trans.groupby(\"brand\").sum()\n",
        "plt.bar(trans.brand.unique(), results2[\"Profit_Margin(%)\"], color='#d38312')\n",
        "\n",
        "plt.xticks(rotation = 'vertical')\n",
        "plt.ylabel('Profit Margin(%)', color='g')\n",
        "plt.xlabel('Brand')\n",
        "plt.title(\"Profit Margin (%) vs Brand\")\n",
        "plt.show()"
      ],
      "execution_count": null,
      "outputs": [
        {
          "output_type": "display_data",
          "data": {
            "image/png": "[encoded data removed]",
            "text/plain": [
              "<Figure size 432x288 with 1 Axes>"
            ]
          },
          "metadata": {
            "tags": [],
            "needs_background": "light"
          }
        }
      ]
    },
    {
      "cell_type": "markdown",
      "metadata": {
        "id": "lGlJ-HaudWaG"
      },
      "source": [
        "Solex brand returns most profit margin than other brands that means the selling price of Solex brand is too high than standard price. It shows company can produce too much profit if customer base of Solex will increase and to do that company will introduced offers in new purchase of Solex."
      ]
    },
    {
      "cell_type": "markdown",
      "metadata": {
        "id": "Fy5LDf5odWaG"
      },
      "source": [
        "### Which brand is most profitable($) ."
      ]
    },
    {
      "cell_type": "code",
      "metadata": {
        "id": "DQcx8kY0dWaH",
        "outputId": "f207ab00-8423-495a-91ad-9e0cb58cb8d1"
      },
      "source": [
        "results2 = trans.groupby(\"brand\").sum()\n",
        "plt.bar(trans.brand.unique(), results2[\"Profit($)\"], color='#00416a')\n",
        "\n",
        "plt.xticks(rotation = 'vertical')\n",
        "plt.ylabel('Profit($)', color='g')\n",
        "plt.xlabel('Brand')\n",
        "plt.title(\"Profit ($) vs Brand\")\n",
        "plt.show()"
      ],
      "execution_count": null,
      "outputs": [
        {
          "output_type": "display_data",
          "data": {
            "image/png": "[encoded data removed]",
            "text/plain": [
              "<Figure size 432x288 with 1 Axes>"
            ]
          },
          "metadata": {
            "tags": [],
            "needs_background": "light"
          }
        }
      ]
    },
    {
      "cell_type": "markdown",
      "metadata": {
        "id": "_kGJA5P8dWaK"
      },
      "source": [
        "### Realtion between Selling Price and Standard Price of a bike brand."
      ]
    },
    {
      "cell_type": "code",
      "metadata": {
        "id": "BxSiMjptdWaL"
      },
      "source": [
        "brand_group = trans.groupby('brand')\n",
        "list_price = brand_group.sum()['list_price($)']\n",
        "\n",
        "brands = [product for product, df in brand_group]"
      ],
      "execution_count": null,
      "outputs": []
    },
    {
      "cell_type": "code",
      "metadata": {
        "id": "YwEl8KVfdWaL",
        "outputId": "a5e136bf-0afc-4b8a-db37-9629096fce6d"
      },
      "source": [
        "##To prove some products ordered more beacuse of their price.\n",
        "prices = trans.groupby('brand').mean()['standard_cost($)']\n",
        "\n",
        "fig, ax1=plt.subplots()\n",
        "\n",
        "ax2 = ax1.twinx()\n",
        "ax1.bar(brands, list_price, color = '#FF5F6D')\n",
        "ax2.plot(brands, prices, 'b-')\n",
        "\n",
        "ax1.set_xlabel('Brands')\n",
        "ax1.set_ylabel('List/ Selling Price', color ='g')\n",
        "ax2.set_ylabel('Standard Price ($)', color='b')\n",
        "ax1.set_xticklabels(brands, rotation = 'vertical', size=10)\n",
        "plt.title(\"Selling Price vs Brands vs Standard Price ($)\")\n",
        "plt.show()"
      ],
      "execution_count": null,
      "outputs": [
        {
          "output_type": "display_data",
          "data": {
            "image/png": "[encoded data removed]",
            "text/plain": [
              "<Figure size 432x288 with 2 Axes>"
            ]
          },
          "metadata": {
            "tags": [],
            "needs_background": "light"
          }
        }
      ]
    },
    {
      "cell_type": "markdown",
      "metadata": {
        "id": "XJ48Uo8PdWaM"
      },
      "source": [
        "### Analyze profit achieved by brand under different product size. "
      ]
    },
    {
      "cell_type": "code",
      "metadata": {
        "id": "l66TKsdKdWaM",
        "outputId": "6544c59e-60ba-44c3-9610-0946deeb77aa"
      },
      "source": [
        "sns.catplot(x=\"product_size\", y=\"Profit($)\", hue=\"brand\", kind=\"bar\", data=trans);"
      ],
      "execution_count": null,
      "outputs": [
        {
          "output_type": "display_data",
          "data": {
            "image/png": "[encoded data removed]",
            "text/plain": [
              "<Figure size 469.125x360 with 1 Axes>"
            ]
          },
          "metadata": {
            "tags": [],
            "needs_background": "light"
          }
        }
      ]
    },
    {
      "cell_type": "markdown",
      "metadata": {
        "id": "ys5X_7wkdWaM"
      },
      "source": [
        "Trek bicycles and WeareA2B brands produce good profit in all range of size of products."
      ]
    }
  ]
}