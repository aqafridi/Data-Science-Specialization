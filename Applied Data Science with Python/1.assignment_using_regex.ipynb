{
  "nbformat": 4,
  "nbformat_minor": 0,
  "metadata": {
    "coursera": {
      "schema_names": [
        "mooc_adswpy_1_v2_assignment1"
      ]
    },
    "kernelspec": {
      "display_name": "Python 3",
      "language": "python",
      "name": "python3"
    },
    "language_info": {
      "codemirror_mode": {
        "name": "ipython",
        "version": 3
      },
      "file_extension": ".py",
      "mimetype": "text/x-python",
      "name": "python",
      "nbconvert_exporter": "python",
      "pygments_lexer": "ipython3",
      "version": "3.7.3"
    },
    "colab": {
      "name": "assignment1.ipynb",
      "provenance": [],
      "include_colab_link": true
    }
  },
  "cells": [
    {
      "cell_type": "markdown",
      "metadata": {
        "id": "view-in-github",
        "colab_type": "text"
      },
      "source": [
        "<a href=\"https://colab.research.google.com/github/aqafridi/DataScience/blob/main/Applied%20Data%20Science%20with%20Python/1.assignment_using_regex.ipynb\" target=\"_parent\"><img src=\"https://colab.research.google.com/assets/colab-badge.svg\" alt=\"Open In Colab\"/></a>"
      ]
    },
    {
      "cell_type": "markdown",
      "metadata": {
        "deletable": false,
        "editable": false,
        "nbgrader": {
          "checksum": "a7460f3e3c42534125a0802936889559",
          "grade": false,
          "grade_id": "cell-fa48e7f1b94baa5b",
          "locked": true,
          "schema_version": 1,
          "solution": false
        },
        "id": "ZsQkiM1E10oU"
      },
      "source": [
        "# Assignment 1\n",
        "For this assignment you are welcomed to use other regex resources such a regex \"cheat sheets\" you find on the web.\n",
        "\n"
      ]
    },
    {
      "cell_type": "markdown",
      "metadata": {
        "deletable": false,
        "editable": false,
        "nbgrader": {
          "checksum": "d17f561e3c6c08092810b982d085f5be",
          "grade": false,
          "grade_id": "cell-d4da7eb9acee2a6d",
          "locked": true,
          "schema_version": 1,
          "solution": false
        },
        "id": "wERrtoOV10oZ"
      },
      "source": [
        "Before start working on the problems, here is a small example to help you understand how to write your own answers. In short, the solution should be written within the function body given, and the final result should be returned. Then the autograder will try to call the function and validate your returned result accordingly. "
      ]
    },
    {
      "cell_type": "code",
      "metadata": {
        "deletable": false,
        "editable": false,
        "nbgrader": {
          "checksum": "7eeb5e7d0f0e0137caed9f3b5cb925b1",
          "grade": false,
          "grade_id": "cell-4a96535829224b3f",
          "locked": true,
          "schema_version": 1,
          "solution": false
        },
        "id": "uex2r5Xc10ob"
      },
      "source": [
        "def example_word_count():\n",
        "    # This example question requires counting words in the example_string below.\n",
        "    example_string = \"Amy is 5 years old\"\n",
        "    \n",
        "    # YOUR CODE HERE.\n",
        "    # You should write your solution here, and return your result, you can comment out or delete the\n",
        "    # NotImplementedError below.\n",
        "    result = example_string.split(\" \")\n",
        "    return len(result)\n",
        "\n",
        "    #raise NotImplementedError()"
      ],
      "execution_count": null,
      "outputs": []
    },
    {
      "cell_type": "markdown",
      "metadata": {
        "id": "Cin4un8C10oc"
      },
      "source": [
        "## Part A\n",
        "\n",
        "Find a list of all of the names in the following string using regex."
      ]
    },
    {
      "cell_type": "code",
      "metadata": {
        "deletable": false,
        "nbgrader": {
          "checksum": "29bc8c161c0e246c1e3ef4820cc164f7",
          "grade": false,
          "grade_id": "names",
          "locked": false,
          "schema_version": 1,
          "solution": true
        },
        "id": "IlQLNxFp10oc"
      },
      "source": [
        "import re\n",
        "def names():\n",
        "    simple_string = \"\"\"Amy is 5 years old, and her sister Mary is 2 years old. \n",
        "    Ruth and Peter, their parents, have 3 kids.\"\"\"\n",
        "\n",
        "    # YOUR CODE HERE\n",
        "    name=re.findall('[A-Z][\\w]{1,4}',simple_string)\n",
        "    return name\n",
        "    raise NotImplementedError()"
      ],
      "execution_count": null,
      "outputs": []
    },
    {
      "cell_type": "code",
      "metadata": {
        "deletable": false,
        "editable": false,
        "nbgrader": {
          "checksum": "ed5c09ac57f7d98130d5abc557f6d6c4",
          "grade": true,
          "grade_id": "correct_names",
          "locked": false,
          "points": 1,
          "schema_version": 1,
          "solution": false
        },
        "id": "IKpFnVpj10od"
      },
      "source": [
        "assert len(names()) == 4, \"There are four names in the simple_string\"\n"
      ],
      "execution_count": null,
      "outputs": []
    },
    {
      "cell_type": "markdown",
      "metadata": {
        "deletable": false,
        "editable": false,
        "nbgrader": {
          "checksum": "77b3d100c47e9e41d98f82dfeb7eba9c",
          "grade": false,
          "grade_id": "cell-ed64e3464ddd7ba7",
          "locked": true,
          "schema_version": 1,
          "solution": false
        },
        "id": "xFSogB5k10od"
      },
      "source": [
        "## Part B\n",
        "\n",
        "The dataset file in [assets/grades.txt](assets/grades.txt) contains a line separated list of people with their grade in \n",
        "a class. Create a regex to generate a list of just those students who received a B in the course."
      ]
    },
    {
      "cell_type": "code",
      "metadata": {
        "deletable": false,
        "nbgrader": {
          "checksum": "e977a1df674e9fa684e6d172aec92824",
          "grade": false,
          "grade_id": "grades",
          "locked": false,
          "schema_version": 1,
          "solution": true
        },
        "id": "J3qCMRNk10oe",
        "outputId": "b1c00b9d-314e-4747-dba4-f694a47c2b49"
      },
      "source": [
        "import re\n",
        "def grades():\n",
        "    with open (\"assets/grades.txt\", \"r\") as file:\n",
        "        grades = file.read()\n",
        "\n",
        "    # YOUR CODE HERE\n",
        "    pattern = \"[\\w]*\\ [\\w]*(?=:\\ B)\"\n",
        "    return re.findall(pattern, grades)\n",
        "    raise NotImplementedError()\n",
        "grades()"
      ],
      "execution_count": null,
      "outputs": [
        {
          "output_type": "execute_result",
          "data": {
            "text/plain": [
              "['Bell Kassulke',\n",
              " 'Simon Loidl',\n",
              " 'Elias Jovanovic',\n",
              " 'Hakim Botros',\n",
              " 'Emilie Lorentsen',\n",
              " 'Jake Wood',\n",
              " 'Fatemeh Akhtar',\n",
              " 'Kim Weston',\n",
              " 'Yasmin Dar',\n",
              " 'Viswamitra Upandhye',\n",
              " 'Killian Kaufman',\n",
              " 'Elwood Page',\n",
              " 'Elodie Booker',\n",
              " 'Adnan Chen',\n",
              " 'Hank Spinka',\n",
              " 'Hannah Bayer']"
            ]
          },
          "metadata": {
            "tags": []
          },
          "execution_count": 33
        }
      ]
    },
    {
      "cell_type": "code",
      "metadata": {
        "deletable": false,
        "editable": false,
        "nbgrader": {
          "checksum": "e0bcc452d60fc45259e58d3116d25477",
          "grade": true,
          "grade_id": "correct_grades",
          "locked": false,
          "points": 1,
          "schema_version": 1,
          "solution": false
        },
        "id": "zL_xBdTa10of"
      },
      "source": [
        "assert len(grades()) == 16\n"
      ],
      "execution_count": null,
      "outputs": []
    },
    {
      "cell_type": "markdown",
      "metadata": {
        "deletable": false,
        "editable": false,
        "nbgrader": {
          "checksum": "36e3e2a3a3e29fa7b823d22476392320",
          "grade": false,
          "grade_id": "cell-e253518e37d33f0c",
          "locked": true,
          "schema_version": 1,
          "solution": false
        },
        "id": "pMHWG2K210of"
      },
      "source": [
        "## Part C\n",
        "\n",
        "Consider the standard web log file in [assets/logdata.txt](assets/logdata.txt). This file records the access a user makes when visiting a web page (like this one!). Each line of the log has the following items:\n",
        "* a host (e.g., '146.204.224.152') \n",
        "* a user_name (e.g., 'feest6811' **note: sometimes the user name is missing! In this case, use '-' as the value for the username.**)\n",
        "* the time a request was made (e.g., '21/Jun/2019:15:45:24 -0700')\n",
        "* the post request type (e.g., 'POST /incentivize HTTP/1.1' **note: not everything is a POST!**)\n",
        "\n",
        "Your task is to convert this into a list of dictionaries, where each dictionary looks like the following:\n",
        "```\n",
        "example_dict = {\"host\":\"146.204.224.152\", \n",
        "                \"user_name\":\"feest6811\", \n",
        "                \"time\":\"21/Jun/2019:15:45:24 -0700\",\n",
        "                \"request\":\"POST /incentivize HTTP/1.1\"}\n",
        "```"
      ]
    },
    {
      "cell_type": "code",
      "metadata": {
        "deletable": false,
        "nbgrader": {
          "checksum": "c04017e59e48b2f4c77bf425ed84b356",
          "grade": false,
          "grade_id": "logs",
          "locked": false,
          "schema_version": 1,
          "solution": true
        },
        "id": "9iGlYNQC10og"
      },
      "source": [
        "import re\n",
        "def logs():\n",
        "    with open(\"assets/logdata.txt\", \"r\") as file:\n",
        "        logdata = file.read()\n",
        "    \n",
        "    # YOUR CODE HERE\n",
        "    pattern = \"\"\"\n",
        "    (?P<host>[\\d]*.[\\d]*.[\\d]*.[\\d]*)    \n",
        "    (\\ -\\ )  \n",
        "    (?P<user_name>[\\w-]*) \n",
        "    (\\ \\[) \n",
        "    (?P<time>\\w*/\\w*/.*)\n",
        "    (\\]\\ \\\") \n",
        "    (?P<request>.*)\n",
        "    (\")\n",
        "    \"\"\"\n",
        "    result = []\n",
        "    for item in re.finditer(pattern, logdata, re.VERBOSE):\n",
        "        result.append(item.groupdict())\n",
        "    return result\n",
        "    raise NotImplementedError()"
      ],
      "execution_count": null,
      "outputs": []
    },
    {
      "cell_type": "code",
      "metadata": {
        "deletable": false,
        "editable": false,
        "nbgrader": {
          "checksum": "1fd5f2cca190d37c667fb189352540d3",
          "grade": true,
          "grade_id": "cell-correct_logs",
          "locked": true,
          "points": 1,
          "schema_version": 1,
          "solution": false
        },
        "id": "b3aa0mYG10oh"
      },
      "source": [
        "assert len(logs()) == 979\n",
        "\n",
        "one_item={'host': '146.204.224.152',\n",
        "  'user_name': 'feest6811',\n",
        "  'time': '21/Jun/2019:15:45:24 -0700',\n",
        "  'request': 'POST /incentivize HTTP/1.1'}\n",
        "assert one_item in logs(), \"Sorry, this item should be in the log results, check your formating\"\n"
      ],
      "execution_count": null,
      "outputs": []
    },
    {
      "cell_type": "code",
      "metadata": {
        "id": "HqnyIDp910oh"
      },
      "source": [
        ""
      ],
      "execution_count": null,
      "outputs": []
    }
  ]
}